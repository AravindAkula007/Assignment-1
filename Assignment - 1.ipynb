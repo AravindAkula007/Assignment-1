{
 "cells": [
  {
   "cell_type": "code",
   "execution_count": 47,
   "id": "0d6899eb-bbc9-4925-88e1-379222c8aedd",
   "metadata": {},
   "outputs": [
    {
     "name": "stdout",
     "output_type": "stream",
     "text": [
      "3.09\n"
     ]
    }
   ],
   "source": [
    "#Q6) Calculate the Expected number of candies for a randomly selected child \n",
    "# Below are the probabilities of count of candies for children (ignoring the nature of the child-Generalized view)\n",
    "# CHILD\tCandies count\tProbability\n",
    "# A\t1\t0.015\n",
    "# B\t4\t0.20\n",
    "# C\t3\t0.65\n",
    "# D\t5\t0.005\n",
    "# E\t6\t0.01\n",
    "# F\t2\t0.120\n",
    "# Child A – probability of having 1 candy = 0.015.\n",
    "# Child B – probability of hav\n",
    "\n",
    "probabilities = {'A': 0.015,'B': 0.20,'C': 0.65,'D': 0.005,'E': 0.01,'F': 0.120}\n",
    "candies = {'A': 1,'B': 4,'C': 3,'D': 5,'E': 6,'F': 2}\n",
    "expected_candies = 0\n",
    "for child, probability in probabilities.items():\n",
    "    expected_candies += probability * candies[child]\n",
    "print(expected_candies)\n"
   ]
  },
  {
   "cell_type": "code",
   "execution_count": 45,
   "id": "48b4e17e-610a-47d9-ba31-14793f2b34c0",
   "metadata": {},
   "outputs": [
    {
     "name": "stdout",
     "output_type": "stream",
     "text": [
      "Mean point: 3.5965625\n",
      "Mean score: 3.2172500000000004\n",
      "Mean weight: 17.848750000000003\n",
      "Median point: 3.6950000000000003\n",
      "Median score: 3.325\n",
      "Median weight: 17.71\n",
      "Mode point: 0    3.07\n",
      "1    3.92\n",
      "Name: Points, dtype: float64\n",
      "Mode score: 0    3.44\n",
      "Name: Score, dtype: float64\n",
      "Mode weight: 0    17.02\n",
      "1    18.90\n",
      "Name: Weigh, dtype: float64\n",
      "Variance point: 0.28588135080645166\n",
      "Variance score: 0.9573789677419356\n",
      "Variance weight: 3.193166129032258\n",
      "Standard Deviation point: 0.5346787360709716\n",
      "Standard Deviation score: 0.9784574429896967\n",
      "Standard Deviation weight: 1.7869432360968431\n",
      "Range point: 2.17\n",
      "Range score: 3.9110000000000005\n",
      "Range weight: 8.399999999999999\n"
     ]
    }
   ],
   "source": [
    "#Q7) Calculate Mean, Median, Mode, Variance, Standard Deviation, Range & comment about the values / draw inferences, for the given dataset Q7.csv\n",
    "import pandas as pd\n",
    "import numpy as np\n",
    "from scipy import stats\n",
    "\n",
    "df = pd.read_csv(\"G:\\ExcelR\\Data Science Assignments\\Assignment 1\\\\Q7.csv\")\n",
    "\n",
    "#Mean values for Points,Score&Weigh\n",
    "mean_points = df['Points'].mean()\n",
    "mean_score = df['Score'].mean()\n",
    "mean_weight = df['Weigh'].mean()\n",
    "#Print Mean values\n",
    "print(\"Mean point:\",mean_points)\n",
    "print(\"Mean score:\",mean_score)\n",
    "print(\"Mean weight:\",mean_weight)\n",
    "\n",
    "#Median values for Points,Score&Weigh\n",
    "median_points = df['Points'].median()\n",
    "median_score = df['Score'].median()\n",
    "median_weight = df['Weigh'].median()\n",
    "#Print Median values\n",
    "print(\"Median point:\",median_points)\n",
    "print(\"Median score:\",median_score)\n",
    "print(\"Median weight:\",median_weight)\n",
    "\n",
    "\n",
    "#Mode values for Points,Score&Weigh\n",
    "mode_points = df['Points'].mode()\n",
    "mode_score = df['Score'].mode()\n",
    "mode_weight = df['Weigh'].mode()\n",
    "#Print Mode values\n",
    "print(\"Mode point:\",mode_points)\n",
    "print(\"Mode score:\",mode_score)\n",
    "print(\"Mode weight:\",mode_weight)\n",
    "\n",
    "\n",
    "#Variance values for Points,Score&Weigh\n",
    "var_points = df['Points'].var()\n",
    "var_score = df['Score'].var()\n",
    "var_weight = df['Weigh'].var()\n",
    "#Print Variance values\n",
    "print(\"Variance point:\",var_points)\n",
    "print(\"Variance score:\",var_score)\n",
    "print(\"Variance weight:\",var_weight)\n",
    "\n",
    "\n",
    "#Standard Deviation values for Points,Score&Weigh\n",
    "std_points = df['Points'].std()\n",
    "std_score = df['Score'].std()\n",
    "std_weight = df['Weigh'].std()\n",
    "#Print Std values\n",
    "print(\"Standard Deviation point:\",std_points)\n",
    "print(\"Standard Deviation score:\",std_score)\n",
    "print(\"Standard Deviation weight:\",std_weight)\n",
    "\n",
    "#Range values for Points,Score&Weigh\n",
    "range_points = df['Points'].max() - df['Points'].min()\n",
    "range_score = df['Score'].max() - df['Score'].min()\n",
    "range_weight = df['Weigh'].max() - df['Weigh'].min()\n",
    "#Print Range values\n",
    "print(\"Range point:\",range_points)\n",
    "print(\"Range score:\",range_score)\n",
    "print(\"Range weight:\",range_weight)"
   ]
  },
  {
   "cell_type": "code",
   "execution_count": 18,
   "id": "9f730727-1d18-4619-ae05-8a02d9d885ff",
   "metadata": {},
   "outputs": [
    {
     "name": "stdout",
     "output_type": "stream",
     "text": [
      "Expected Value of the Weight: 17.848750000000003\n"
     ]
    }
   ],
   "source": [
    "# Q8) Calculate Expected Value for the problem below\n",
    "# a)The weights (X) of patients at a clinic (in pounds), are\n",
    "# 108, 110, 123, 134, 135, 145, 167, 187, 199\n",
    "# Assume one of the patients is chosen at random. What is the Expected Value of the Weight of that patient? use dataset = Q7.csv\n",
    "\n",
    "import pandas as pd\n",
    "import numpy as np\n",
    "\n",
    "dataset = pd.read_csv(\"G:\\ExcelR\\Data Science Assignments\\Assignment 1\\\\Q7.csv\")\n",
    "mean_weight = np.mean(dataset['Weigh'])\n",
    "print('Expected Value of the Weight:', mean_weight)\n"
   ]
  },
  {
   "cell_type": "code",
   "execution_count": 11,
   "id": "c8bc0c10-bfd1-4514-89fc-06dbdb45af62",
   "metadata": {},
   "outputs": [
    {
     "name": "stdout",
     "output_type": "stream",
     "text": [
      "Skewness for Cars speed: -0.11395477012828319\n",
      "Kurtosis for Cars speed: -0.5771474239437371\n",
      "Skewness for Cars distance: 0.7824835173114966\n",
      "Kurtosis for Cars distance: 0.24801865717051808\n"
     ]
    }
   ],
   "source": [
    "# Q9) Calculate Skewness, Kurtosis & draw inferences on the following data:\n",
    "# Cars speed and distance : Use Q9_a.csv\n",
    "\n",
    "import pandas as pd\n",
    "import numpy as np\n",
    "from scipy.stats import skew, kurtosis\n",
    "\n",
    "df = pd.read_csv(\"G:\\ExcelR\\Data Science Assignments\\Assignment 1\\\\Q9_a.csv\")\n",
    "\n",
    "# Calculate skewness and kurtosis for Cars speed and distance\n",
    "speed_skewness = skew(df['speed'])\n",
    "speed_kurtosis = kurtosis(df['speed'])\n",
    "distance_skewness = skew(df['dist'])\n",
    "distance_kurtosis = kurtosis(df['dist'])\n",
    "\n",
    "# Print the results\n",
    "print(\"Skewness for Cars speed:\", speed_skewness)\n",
    "print(\"Kurtosis for Cars speed:\", speed_kurtosis)\n",
    "print(\"Skewness for Cars distance:\", distance_skewness)\n",
    "print(\"Kurtosis for Cars distance:\", distance_kurtosis)\n"
   ]
  },
  {
   "cell_type": "code",
   "execution_count": 13,
   "id": "c70f45bd-34e7-438c-b7c3-ca4fb33befac",
   "metadata": {},
   "outputs": [
    {
     "name": "stdout",
     "output_type": "stream",
     "text": [
      "Skewness for SP: 1.5814536794423764\n",
      "Kurtosis for SP: 2.7235214865269244\n",
      "Skewness for WT: -0.6033099322115126\n",
      "Kurtosis for WT: 0.8194658792266849\n"
     ]
    }
   ],
   "source": [
    "# SP and Weight(WT) : Use Q9_b.csv\n",
    "import pandas as pd\n",
    "import numpy as np\n",
    "from scipy.stats import skew, kurtosis\n",
    "\n",
    "df = pd.read_csv(\"G:\\ExcelR\\Data Science Assignments\\Assignment 1\\\\Q9_b.csv\")\n",
    "# Calculate skewness and kurtosis for SP and Weight(WT)\n",
    "sp_skewness = skew(df['SP'])\n",
    "sp_kurtosis = kurtosis(df['SP'])\n",
    "wt_skewness = skew(df['WT'])\n",
    "wt_kurtosis = kurtosis(df['WT'])\n",
    "\n",
    "# Print the results\n",
    "print(\"Skewness for SP:\", sp_skewness)\n",
    "print(\"Kurtosis for SP:\", sp_kurtosis)\n",
    "print(\"Skewness for WT:\", wt_skewness)\n",
    "print(\"Kurtosis for WT:\", wt_kurtosis)\n"
   ]
  },
  {
   "cell_type": "code",
   "execution_count": 8,
   "id": "4d3e9dbe-7b2b-4a6f-9311-648fbdd16306",
   "metadata": {},
   "outputs": [
    {
     "name": "stdout",
     "output_type": "stream",
     "text": [
      "Range & Zvalues of 94%: (198.738325292158, 201.261674707842)\n",
      "Range & Zvalues of 94%: (198.43943840429978, 201.56056159570022)\n",
      "Range & Zvalues of 94%: (198.62230334813333, 201.37769665186667)\n"
     ]
    }
   ],
   "source": [
    "#Q11) Suppose we want to estimate the average weight of an adult male in Mexico.\n",
    "#We draw a random sample of 2,000 men from a population of 3,000,000 men and weigh them.\n",
    "#We find that the average person in our sample weighs 200 pounds, and the standard deviation of the sample is 30 pounds. \n",
    "#Calculate 94%,98%,96% confidence interval?\n",
    "\n",
    "import numpy as np\n",
    "import pandas as pd\n",
    "from scipy import stats\n",
    "from scipy.stats import norm\n",
    "\n",
    "s_94 = stats.norm.interval(0.94,200,30/(2000**0.5)) # Avg. weight of Adult in Mexico with 94% CI\n",
    "s_98 = stats.norm.interval(0.98,200,30/(2000**0.5)) # Avg. weight of Adult in Mexico with 98% CI\n",
    "s_96 = stats.norm.interval(0.96,200,30/(2000**0.5)) ## Avg. weight of Adult in Mexico with 98% CI\n",
    "\n",
    "print(\"Range & Zvalues of 94%:\",s_94)\n",
    "print(\"Range & Zvalues of 94%:\",s_98)\n",
    "print(\"Range & Zvalues of 94%:\",s_96)"
   ]
  },
  {
   "cell_type": "code",
   "execution_count": 162,
   "id": "bce1ef65-3e5e-458e-9e35-4ee96ed1957c",
   "metadata": {},
   "outputs": [
    {
     "name": "stdout",
     "output_type": "stream",
     "text": [
      "Mean value of score: 41\n",
      "Medin value of score: 40.5\n",
      "Variance value of score: 25.529411764705884\n",
      "Standard deviation value of score: 5.05266382858645\n"
     ]
    }
   ],
   "source": [
    "# Q12) Below are the scores obtained by a student in tests : 34,36,36,38,38,39,39,40,40,41,41,41,41,42,42,45,49,56\n",
    "#1)Find mean, median, variance, standard deviation.\n",
    "\n",
    "import statistics\n",
    "\n",
    "score = [34, 36, 36, 38, 38, 39, 39, 40, 40, 41, 41, 41, 41, 42, 42, 45, 49, 56]\n",
    "mean = statistics.mean(score)\n",
    "median = statistics.median(score)\n",
    "variance = statistics.variance(score)\n",
    "standard_deviation = statistics.stdev(score)\n",
    "\n",
    "print(\"Mean value of score:\",mean)\n",
    "print(\"Medin value of score:\",median)\n",
    "print(\"Variance value of score:\",variance)\n",
    "print(\"Standard deviation value of score:\",standard_deviation)\n",
    "\n"
   ]
  },
  {
   "cell_type": "code",
   "execution_count": null,
   "id": "c8f44bdd-dca8-40b3-b725-e412e75da11f",
   "metadata": {},
   "outputs": [],
   "source": []
  },
  {
   "cell_type": "code",
   "execution_count": 117,
   "id": "bb153f5d-4f29-45f5-bb20-2c061f935543",
   "metadata": {},
   "outputs": [
    {
     "name": "stdout",
     "output_type": "stream",
     "text": [
      "0.34759\n"
     ]
    }
   ],
   "source": [
    "# Q20) Calculate probability from the given dataset for the below cases\n",
    "#Data _set: Cars.csv\n",
    "#Calculate the probability of MPG  of Cars for the below cases.\n",
    "\n",
    "#A) P(MPG>38):\n",
    "import pandas as pd\n",
    "from scipy.stats import norm\n",
    "\n",
    "# Read the Cars dataset\n",
    "cars = pd.read_csv(\"G:\\ExcelR\\Data Science Assignments\\Assignment 1\\\\Cars.csv\")\n",
    "mpg = cars['MPG'] \n",
    "prob_mpg_gt_38 = 1 - stats.norm.cdf(38, mpg.mean(), mpg.std()) #Calculate the probability of MPG > 38\n",
    "print((prob_mpg_gt_38).round(5))"
   ]
  },
  {
   "cell_type": "code",
   "execution_count": 118,
   "id": "b74a2359-e20b-45d1-b0ae-2ce8e70b9457",
   "metadata": {},
   "outputs": [
    {
     "name": "stdout",
     "output_type": "stream",
     "text": [
      "0.72935\n"
     ]
    }
   ],
   "source": [
    "#B) P(MPG<40):\n",
    "mpg = cars['MPG'] \n",
    "prob_mpg_gt_40 = stats.norm.cdf(40, mpg.mean(), mpg.std()) # Calculate the probability of MPG < 40\n",
    "# Print the probability\n",
    "print((prob_mpg_gt_40).round(5))"
   ]
  },
  {
   "cell_type": "code",
   "execution_count": 78,
   "id": "4fed7ce6-b3f8-4cfa-9b90-aaffd50ce335",
   "metadata": {},
   "outputs": [
    {
     "data": {
      "image/png": "[encoded data removed]",
      "text/plain": [
       "<Figure size 640x480 with 1 Axes>"
      ]
     },
     "metadata": {},
     "output_type": "display_data"
    }
   ],
   "source": [
    "# Q21) Check whether the data follows normal distribution\n",
    "#A)Check whether the MPG of Cars follows Normal Distribution.\n",
    "#Dataset: Cars.csv\n",
    "import pandas as pd\n",
    "import matplotlib.pyplot as plt\n",
    "\n",
    "df = pd.read_csv(\"G:\\ExcelR\\Data Science Assignments\\Assignment 1\\\\Cars.csv\")\n",
    "stats.probplot(df['MPG'], dist=\"norm\", plot=plt) # Normal Q-Q plot for the MPG.\n",
    "plt.show()"
   ]
  },
  {
   "cell_type": "code",
   "execution_count": 79,
   "id": "a586bd1a-42a0-4480-b579-ae71386a867f",
   "metadata": {},
   "outputs": [
    {
     "data": {
      "image/png": "[encoded data removed]",
      "text/plain": [
       "<Figure size 640x480 with 1 Axes>"
      ]
     },
     "metadata": {},
     "output_type": "display_data"
    }
   ],
   "source": [
    "#Q21) \n",
    "#B)Check Whether the Adipose Tissue (AT) and Waist Circumference(Waist)  from wc-at data set  follows Normal Distribution \n",
    "#Dataset: wc-at.csv\n",
    "import pandas as pd\n",
    "import matplotlib.pyplot as plt\n",
    "\n",
    "df = pd.read_csv(\"G:\\ExcelR\\Data Science Assignments\\Assignment 1\\\\wc-at.csv\")\n",
    "stats.probplot(df['AT'], dist=\"norm\", plot=plt) #Normal Q-Q plot for the Adipose Tissue (AT)\n",
    "plt.show()"
   ]
  },
  {
   "cell_type": "code",
   "execution_count": 80,
   "id": "a4cff557-46bd-4a1c-bbcb-aedd31dd007b",
   "metadata": {},
   "outputs": [
    {
     "data": {
      "image/png": "[encoded data removed]",
      "text/plain": [
       "<Figure size 640x480 with 1 Axes>"
      ]
     },
     "metadata": {},
     "output_type": "display_data"
    }
   ],
   "source": [
    "stats.probplot(df['Waist'], dist=\"norm\", plot=plt) #Normal Q-Q plot for the Waist Circumference(Waist)\n",
    "plt.show()"
   ]
  },
  {
   "cell_type": "code",
   "execution_count": 48,
   "id": "dcff215e-3c01-4cca-9bf1-0d027f3a233a",
   "metadata": {},
   "outputs": [
    {
     "data": {
      "text/plain": [
       "0.8416212335729143"
      ]
     },
     "execution_count": 48,
     "metadata": {},
     "output_type": "execute_result"
    }
   ],
   "source": [
    "# Q22) Calculate the Z scores of  90% confidence interval,94% confidence interval, 60% confidence interval\n",
    "from scipy.stats import norm\n",
    "stats.norm.ppf(0.8) # Z-score of 60% confidence interval\n"
   ]
  },
  {
   "cell_type": "code",
   "execution_count": 49,
   "id": "4d37c6cd-8afc-4af2-a172-07bf243f1a39",
   "metadata": {},
   "outputs": [
    {
     "data": {
      "text/plain": [
       "1.6448536269514722"
      ]
     },
     "execution_count": 49,
     "metadata": {},
     "output_type": "execute_result"
    }
   ],
   "source": [
    "stats.norm.ppf(0.95) # Z-score of 90% confidence interval"
   ]
  },
  {
   "cell_type": "code",
   "execution_count": 50,
   "id": "a9e3c7ea-f86e-4045-b9f4-6c8ae93760e0",
   "metadata": {},
   "outputs": [
    {
     "data": {
      "text/plain": [
       "1.8807936081512509"
      ]
     },
     "execution_count": 50,
     "metadata": {},
     "output_type": "execute_result"
    }
   ],
   "source": [
    "stats.norm.ppf(0.97) # Z-score of 94% confidence interval"
   ]
  },
  {
   "cell_type": "code",
   "execution_count": 24,
   "id": "cf0fc20b-c4b7-4145-a724-ec658fd538a0",
   "metadata": {},
   "outputs": [
    {
     "data": {
      "text/plain": [
       "2.0638985616280205"
      ]
     },
     "execution_count": 24,
     "metadata": {},
     "output_type": "execute_result"
    }
   ],
   "source": [
    "# Q23) Calculate the t scores of 95% confidence interval, 96% confidence interval, 99% confidence interval for sample size of 25\n",
    "from scipy.stats import norm\n",
    "stats.t.ppf(0.975,24)  # df = n-1 = 24. # t scores of 95% confidence interval for sample size of 25. #ppf : percent point function."
   ]
  },
  {
   "cell_type": "code",
   "execution_count": 45,
   "id": "b993c5b6-b3c2-496f-801f-7f95934ba3da",
   "metadata": {},
   "outputs": [
    {
     "data": {
      "text/plain": [
       "2.1715446760080677"
      ]
     },
     "execution_count": 45,
     "metadata": {},
     "output_type": "execute_result"
    }
   ],
   "source": [
    "stats.t.ppf(0.98,24) # t scores of 96% confidence interval for sample size of 25"
   ]
  },
  {
   "cell_type": "code",
   "execution_count": 46,
   "id": "089b6a32-9192-4a45-a7bb-cc0f9b0d21eb",
   "metadata": {},
   "outputs": [
    {
     "data": {
      "text/plain": [
       "2.796939504772804"
      ]
     },
     "execution_count": 46,
     "metadata": {},
     "output_type": "execute_result"
    }
   ],
   "source": [
    "stats.t.ppf(0.995,24) # t scores of 99% confidence interval for sample size of 25"
   ]
  },
  {
   "cell_type": "code",
   "execution_count": null,
   "id": "327cba3a-042d-44d4-8b5d-151bf5945be5",
   "metadata": {},
   "outputs": [],
   "source": [
    "# Q24) Q 24)   A Government  company claims that an average light bulb lasts 270 days. A researcher randomly selects 18 bulbs for testing. The sampled bulbs last an average of 260 days, with a standard deviation of 90 days. If the CEO's claim were true, what is the probability that 18 randomly selected bulbs would have an average life of no more than 260 days\n",
    "#Hint: rcode   pt(tscore,df),df  degrees of freedom\n",
    "from scipy import stats\n",
    "from scipy.stats import norm"
   ]
  },
  {
   "cell_type": "code",
   "execution_count": 7,
   "id": "79c09755-fceb-47b7-8979-6819896ba4ef",
   "metadata": {},
   "outputs": [
    {
     "data": {
      "text/plain": [
       "-0.4714045207910317"
      ]
     },
     "execution_count": 7,
     "metadata": {},
     "output_type": "execute_result"
    }
   ],
   "source": [
    "# Imagine Null Hypothesis is: Ho = Avg life of Bulb >= 260 days\n",
    "# Alternate Hypothesis is: Ha = Avg life of Bulb < 260 days\n",
    "# find t-scores at x=260; t=(s_mean-P_mean)/(s_SD/sqrt(n))\n",
    "t=(260-270)/(90/18**0.5)\n",
    "t"
   ]
  },
  {
   "cell_type": "code",
   "execution_count": 8,
   "id": "7f9f2ef1-a4e4-40c9-8dcf-52bab1bb43e5",
   "metadata": {},
   "outputs": [
    {
     "data": {
      "text/plain": [
       "0.32167411684460556"
      ]
     },
     "execution_count": 8,
     "metadata": {},
     "output_type": "execute_result"
    }
   ],
   "source": [
    "# Find P(X>=260) for null hypothesis\n",
    "# p_value=1-stats.t.cdf(abs(t_scores),df=n-1)... Using cdf function\n",
    "p_value=1-stats.t.cdf(abs(-0.4714),df=17)\n",
    "p_value"
   ]
  },
  {
   "cell_type": "code",
   "execution_count": 9,
   "id": "f13404bc-bd47-46c9-b962-c20f6ba5614a",
   "metadata": {},
   "outputs": [
    {
     "data": {
      "text/plain": [
       "0.32167411684460556"
      ]
     },
     "execution_count": 9,
     "metadata": {},
     "output_type": "execute_result"
    }
   ],
   "source": [
    "#  OR p_value=stats.t.sf(abs(t_score),df=n-1)... Using sf function\n",
    "p_value=stats.t.sf(abs(-0.4714),df=17)\n",
    "p_value"
   ]
  },
  {
   "cell_type": "code",
   "execution_count": null,
   "id": "ca733253-7dca-4413-adf1-e5119ad2d297",
   "metadata": {},
   "outputs": [],
   "source": []
  }
 ],
 "metadata": {
  "kernelspec": {
   "display_name": "Python 3 (ipykernel)",
   "language": "python",
   "name": "python3"
  },
  "language_info": {
   "codemirror_mode": {
    "name": "ipython",
    "version": 3
   },
   "file_extension": ".py",
   "mimetype": "text/x-python",
   "name": "python",
   "nbconvert_exporter": "python",
   "pygments_lexer": "ipython3",
   "version": "3.11.7"
  }
 },
 "nbformat": 4,
 "nbformat_minor": 5
}
